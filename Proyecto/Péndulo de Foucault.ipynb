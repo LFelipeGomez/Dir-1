{
 "metadata": {
  "language": "Julia",
  "name": "",
  "signature": "sha256:51fc584b9299b0cd3c0f51d180ef9cc2bae0b94dc134f88ef381c3059ba27ec5"
 },
 "nbformat": 3,
 "nbformat_minor": 0,
 "worksheets": [
  {
   "cells": [
    {
     "cell_type": "heading",
     "level": 2,
     "metadata": {},
     "source": [
      "P\u00e9ndulo de Foucault"
     ]
    },
    {
     "cell_type": "heading",
     "level": 3,
     "metadata": {},
     "source": [
      "Sistema de Referencia No Inerciales"
     ]
    },
    {
     "cell_type": "heading",
     "level": 3,
     "metadata": {},
     "source": [
      "1. Transformaci\u00f3n de coordenadas"
     ]
    },
    {
     "cell_type": "markdown",
     "metadata": {},
     "source": [
      "La primera Ley de Newton define un Sistema Inercial (SI) y la segunda ley $\\vec{F} = \\frac{d^2\\vec{p}}{dt^2}$ es v\u00e1lida para un SI. Las ecuaciones de movimiento de una particula son las mismas para un SI que para todo aquel sistema de referencia que se mueve con velocidad respecto a \u00e9ste. Si la regla de transformaci\u00f3n entre los dos sistemas es la de Galileo,\n",
      "\n",
      "$$\\vec{r} = \\vec{r}' + \\vec{u}t$$\n",
      "\n",
      "$$t = t'$$\n",
      "\n",
      "la segunda Ley de Newton es invariante ante esta transformaci\u00f3n, esto es,\n",
      "\n",
      "$$\\vec{F} = m \\frac{d^2 \\vec{r}}{dt^2} = m \\frac{d^2 \\vec{r'}}{dt^2}$$\n",
      "\n",
      "y ambos sistemas son SI y por tanto miden la misma aceleeraci\u00f3n. Esto ya no es valido cuando el segundo sistema ya no se mueve con velocidad constante con respecto al primero."
     ]
    },
    {
     "cell_type": "markdown",
     "metadata": {},
     "source": [
      "Cuando el sistema no es un SI, la seguunda Ley de Newton debe modificarse. Consideremos un sistema inercial de referencia S y un sistema S' que se mueve con respecto al primero, el segundo sistema puede acelerarse y rotar (SNI).\n",
      "Sea $\\vec{r}(t)$ la posici\u00f3n de una part\u00edcula medida desde S (SI) al tiempo $t$, y $\\vec{r}'(t)$ la posici\u00f3n de la misma part\u00edcula medida desde S' al mismo tiempo t (restringido al caso cl\u00e1sico donde $\\Delta t = \\Delta t'$). Entonces ambas posiciones estan relacionadas por\n",
      "\n",
      "$$\\vec{r}(t) = \\vec{R}(t) + \\vec{r'}(t)$$\n",
      "\n",
      "donde $\\vec{R}(t)$ corresponde al vector de posici\u00f3n del origen S' medido desde el sistema S, de tal forma que la primera derivada es\n",
      "\n",
      "$$\\dot{\\vec{r}} = \\dot{\\vec{R}} + \\dot{\\vec{r'}}$$\n",
      "\n",
      "descomponiendo al vector $\\vec{r}$ \n",
      "\n",
      "$$\\dot{\\vec{r'}} = x'\\hat{i'} + y' \\hat{j'} + z' \\hat{k'}$$\n",
      "\n",
      "donde $\\hat{i'}$, $\\hat{j'}$, $\\hat{k'}$ son los vectores unitarios en las direcciones $x'$, $y'$, $z'$ respectivamente, del sistema S'. De esta forma obtenemos que\n",
      "\n",
      "$$\\dot{\\vec{r}} = \\dot{\\vec{R}} + \\dot{x}'\\hat{i'} + \\dot{y}' \\hat{j'} + \\dot{z}' \\hat{k'} + x'\\frac{d \\hat{i'}}{dt} + y' \\frac{d\\hat{j'}}{dt} + z' \\frac{d\\hat{k'}}{dt}$$"
     ]
    },
    {
     "cell_type": "markdown",
     "metadata": {},
     "source": [
      "Definimos $\\{\\dot{\\vec{r'}}\\}_{SNI} := \\dot{x}'\\hat{i'} + \\dot{y}' \\hat{j'} + \\dot{z}' \\hat{k'}$ que es la velocidad de la part\u00edcula medida desde S', entonces la expresi\u00f3n anterior la podemos reescribir como\n",
      "\n",
      "$$\\dot{\\vec{r}} = \\dot{\\vec{R}} + \\{ \\dot{\\vec{r'}} \\}_{SNI}+ x'\\frac{d \\hat{i'}}{dt} + y' \\frac{d\\hat{j'}}{dt} + z' \\frac{d\\hat{k'}}{dt}$$\n",
      "\n",
      "los terminos restantes corresponden a la rotaci\u00f3n del sistema S'."
     ]
    },
    {
     "cell_type": "markdown",
     "metadata": {},
     "source": [
      "Cualquier rotaci\u00f3n esta identificada por el vector de velocidad angular $\\vec{\\omega}$. Las derivadas con respecto al tiempo de los vectores base pueden ser calculados de la siguiente manera: escrinimos la velocidad angular como\n",
      "\n",
      "$$\\vec{\\omega} = \\omega \\hat{n}$$\n",
      "\n",
      "donde $\\hat{n}$ es el eje instant\u00e1neo de giro, entonces debido a que $\\hat{n}$ es unitario , en una primera aproximaci\u00f3n obtenemos para $\\Delta \\hat{i'}$\n",
      "\n",
      "$$|\\Delta\\hat{i'}| = \\Delta\\theta \\sin{\\alpha}$$\n",
      "\n",
      "y el valor absoluto de la derivada temporal es:\n",
      "\n",
      "$$|\\frac{d\\hat{i'}}{dt}| = \\omega\\sin{\\alpha}$$\n",
      "\n",
      "$$\\omega = \\frac{d\\theta}{dt}$$\n",
      "\n",
      "observamos que la direcci\u00f3n de este vector tiene que ser tanto perpendicular a $\\hat{i'}$ como a $\\vec{\\omega}$, entonces utilizando la definici\u00f3n de producto vectorial podemos escribir que\n",
      "\n",
      "$$\\frac{d\\hat{i'}}{dt} = \\vec{\\omega} \\times \\hat{i'}$$\n",
      "\n",
      "An\u00e1logamente para los otros vectores unitarios, obtenemos\n",
      "\n",
      "$$\\frac{d\\hat{j'}}{dt} = \\vec{\\omega} \\times \\hat{j'}$$\n",
      "\n",
      "$$\\frac{d\\hat{k'}}{dt} = \\vec{\\omega} \\times \\hat{k'}$$\n",
      "\n",
      "Finalmente podemos reescribir la ecuaci\u00f3n que relaciona a S y S' como\n",
      "\n",
      "$$\\dot{\\vec{r}} = \\dot{\\vec{R}} + \\{ \\dot{\\vec{r'}} \\}_{SNI} + \\vec{\\omega} \\times \\vec{r'}$$"
     ]
    },
    {
     "cell_type": "code",
     "collapsed": false,
     "input": [],
     "language": "python",
     "metadata": {},
     "outputs": []
    }
   ],
   "metadata": {}
  }
 ]
}